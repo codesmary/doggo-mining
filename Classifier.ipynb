{
 "cells": [
  {
   "cell_type": "markdown",
   "metadata": {},
   "source": [
    "When a stray animal is brought to a shelter, it is not always apparent what their breed is. Either an expert must assess the animal to determine its breed, or the staff on hand simply guess, sometimes labelling them as \"mixed breed\" when no primary category is apparent. We believe that having an accurately labelled breed is important for boosting an animal's chance of adoption, and automating the process would save experts' time and allow shelters without easy access to one the ability to confidently label their breeds. We decided to make a classifier for dog breeds to narrow the scope of the problem to one that could be easily solved by a classifier."
   ]
  },
  {
   "cell_type": "markdown",
   "metadata": {},
   "source": [
    "The dataset we'll be using to train our classifier comes from the Petfinder API, which takes data from petfinder.com, which is a website that aggregates pet information from animal shelters. Their API allows the client to search for and retrieve pet listings based on characteristics of an animal. To get our data, we just asked it for all animals and filtered out the ones that weren't dogs. The responses have many properties, but we reduced it to the ones we felt would be most useful to the classifier. Some of the properties we removed were things like media links, or references to other animals or organizations from the API."
   ]
  },
  {
   "cell_type": "code",
   "execution_count": 2,
   "metadata": {},
   "outputs": [],
   "source": [
    "import pandas as pd\n",
    "import numpy as np\n",
    "import sqlite3 as lite\n",
    "from sklearn.preprocessing import OneHotEncoder, LabelEncoder\n",
    "from sklearn.model_selection import cross_val_score, GridSearchCV, train_test_split\n",
    "from imblearn.over_sampling import RandomOverSampler\n",
    "from sklearn.pipeline import Pipeline\n",
    "from sklearn.tree import DecisionTreeClassifier\n",
    "from sklearn.naive_bayes import GaussianNB, CategoricalNB"
   ]
  },
  {
   "cell_type": "markdown",
   "metadata": {},
   "source": [
    "*Setup*\n",
    "\n",
    "We stored the data from the API in a SQL databse, so here we retrieve that info into a DataFrame. "
   ]
  },
  {
   "cell_type": "code",
   "execution_count": 3,
   "metadata": {},
   "outputs": [
    {
     "output_type": "execute_result",
     "data": {
      "text/plain": "          id  mixed_breed                primary_color secondary_color  \\\n0          1            1  Yellow / Tan / Blond / Fawn            None   \n1          2            0                         None            None   \n2          3            1  Yellow / Tan / Blond / Fawn            None   \n3          4            0                         None            None   \n4          5            1  Yellow / Tan / Blond / Fawn            None   \n...      ...          ...                          ...             ...   \n13177  13178            1                         None            None   \n13178  13179            1                         None            None   \n13179  13180            1                         None            None   \n13180  13181            0                         None            None   \n13181  13182            0                         None            None   \n\n      tertiary_color    age    size  gender    coat  good_with_children  \\\n0               None  Young   Small  Female  Medium                 1.0   \n1               None   Baby   Small    Male   Short                 1.0   \n2               None  Adult  Medium  Female   Short                 NaN   \n3               None   Baby   Small  Female   Short                 1.0   \n4               None  Adult  Medium  Female    None                 1.0   \n...              ...    ...     ...     ...     ...                 ...   \n13177           None  Young   Large  Female    None                 NaN   \n13178           None  Adult   Large    Male    None                 NaN   \n13179           None  Adult   Large    Male    None                 NaN   \n13180           None  Adult  Medium    Male    None                 NaN   \n13181           None  Young   Large    Male    None                 NaN   \n\n       good_with_other_dogs  good_with_cats  unknown_breed  \\\n0                       1.0             1.0              0   \n1                       1.0             1.0              0   \n2                       NaN             NaN              0   \n3                       1.0             1.0              0   \n4                       1.0             NaN              0   \n...                     ...             ...            ...   \n13177                   NaN             NaN              0   \n13178                   NaN             NaN              0   \n13179                   NaN             NaN              0   \n13180                   NaN             NaN              0   \n13181                   NaN             NaN              0   \n\n             primary_breed secondary_breed  \n0                  Terrier            None  \n1                Chihuahua            None  \n2         Golden Retriever        Shepherd  \n3                Chihuahua            None  \n4                Retriever           Hound  \n...                    ...             ...  \n13177                Boxer     Mixed Breed  \n13178  German Shepherd Dog            None  \n13179                Boxer     Mixed Breed  \n13180          Bullmastiff            None  \n13181     Pit Bull Terrier            None  \n\n[13182 rows x 15 columns]",
      "text/html": "<div>\n<style scoped>\n    .dataframe tbody tr th:only-of-type {\n        vertical-align: middle;\n    }\n\n    .dataframe tbody tr th {\n        vertical-align: top;\n    }\n\n    .dataframe thead th {\n        text-align: right;\n    }\n</style>\n<table border=\"1\" class=\"dataframe\">\n  <thead>\n    <tr style=\"text-align: right;\">\n      <th></th>\n      <th>id</th>\n      <th>mixed_breed</th>\n      <th>primary_color</th>\n      <th>secondary_color</th>\n      <th>tertiary_color</th>\n      <th>age</th>\n      <th>size</th>\n      <th>gender</th>\n      <th>coat</th>\n      <th>good_with_children</th>\n      <th>good_with_other_dogs</th>\n      <th>good_with_cats</th>\n      <th>unknown_breed</th>\n      <th>primary_breed</th>\n      <th>secondary_breed</th>\n    </tr>\n  </thead>\n  <tbody>\n    <tr>\n      <td>0</td>\n      <td>1</td>\n      <td>1</td>\n      <td>Yellow / Tan / Blond / Fawn</td>\n      <td>None</td>\n      <td>None</td>\n      <td>Young</td>\n      <td>Small</td>\n      <td>Female</td>\n      <td>Medium</td>\n      <td>1.0</td>\n      <td>1.0</td>\n      <td>1.0</td>\n      <td>0</td>\n      <td>Terrier</td>\n      <td>None</td>\n    </tr>\n    <tr>\n      <td>1</td>\n      <td>2</td>\n      <td>0</td>\n      <td>None</td>\n      <td>None</td>\n      <td>None</td>\n      <td>Baby</td>\n      <td>Small</td>\n      <td>Male</td>\n      <td>Short</td>\n      <td>1.0</td>\n      <td>1.0</td>\n      <td>1.0</td>\n      <td>0</td>\n      <td>Chihuahua</td>\n      <td>None</td>\n    </tr>\n    <tr>\n      <td>2</td>\n      <td>3</td>\n      <td>1</td>\n      <td>Yellow / Tan / Blond / Fawn</td>\n      <td>None</td>\n      <td>None</td>\n      <td>Adult</td>\n      <td>Medium</td>\n      <td>Female</td>\n      <td>Short</td>\n      <td>NaN</td>\n      <td>NaN</td>\n      <td>NaN</td>\n      <td>0</td>\n      <td>Golden Retriever</td>\n      <td>Shepherd</td>\n    </tr>\n    <tr>\n      <td>3</td>\n      <td>4</td>\n      <td>0</td>\n      <td>None</td>\n      <td>None</td>\n      <td>None</td>\n      <td>Baby</td>\n      <td>Small</td>\n      <td>Female</td>\n      <td>Short</td>\n      <td>1.0</td>\n      <td>1.0</td>\n      <td>1.0</td>\n      <td>0</td>\n      <td>Chihuahua</td>\n      <td>None</td>\n    </tr>\n    <tr>\n      <td>4</td>\n      <td>5</td>\n      <td>1</td>\n      <td>Yellow / Tan / Blond / Fawn</td>\n      <td>None</td>\n      <td>None</td>\n      <td>Adult</td>\n      <td>Medium</td>\n      <td>Female</td>\n      <td>None</td>\n      <td>1.0</td>\n      <td>1.0</td>\n      <td>NaN</td>\n      <td>0</td>\n      <td>Retriever</td>\n      <td>Hound</td>\n    </tr>\n    <tr>\n      <td>...</td>\n      <td>...</td>\n      <td>...</td>\n      <td>...</td>\n      <td>...</td>\n      <td>...</td>\n      <td>...</td>\n      <td>...</td>\n      <td>...</td>\n      <td>...</td>\n      <td>...</td>\n      <td>...</td>\n      <td>...</td>\n      <td>...</td>\n      <td>...</td>\n      <td>...</td>\n    </tr>\n    <tr>\n      <td>13177</td>\n      <td>13178</td>\n      <td>1</td>\n      <td>None</td>\n      <td>None</td>\n      <td>None</td>\n      <td>Young</td>\n      <td>Large</td>\n      <td>Female</td>\n      <td>None</td>\n      <td>NaN</td>\n      <td>NaN</td>\n      <td>NaN</td>\n      <td>0</td>\n      <td>Boxer</td>\n      <td>Mixed Breed</td>\n    </tr>\n    <tr>\n      <td>13178</td>\n      <td>13179</td>\n      <td>1</td>\n      <td>None</td>\n      <td>None</td>\n      <td>None</td>\n      <td>Adult</td>\n      <td>Large</td>\n      <td>Male</td>\n      <td>None</td>\n      <td>NaN</td>\n      <td>NaN</td>\n      <td>NaN</td>\n      <td>0</td>\n      <td>German Shepherd Dog</td>\n      <td>None</td>\n    </tr>\n    <tr>\n      <td>13179</td>\n      <td>13180</td>\n      <td>1</td>\n      <td>None</td>\n      <td>None</td>\n      <td>None</td>\n      <td>Adult</td>\n      <td>Large</td>\n      <td>Male</td>\n      <td>None</td>\n      <td>NaN</td>\n      <td>NaN</td>\n      <td>NaN</td>\n      <td>0</td>\n      <td>Boxer</td>\n      <td>Mixed Breed</td>\n    </tr>\n    <tr>\n      <td>13180</td>\n      <td>13181</td>\n      <td>0</td>\n      <td>None</td>\n      <td>None</td>\n      <td>None</td>\n      <td>Adult</td>\n      <td>Medium</td>\n      <td>Male</td>\n      <td>None</td>\n      <td>NaN</td>\n      <td>NaN</td>\n      <td>NaN</td>\n      <td>0</td>\n      <td>Bullmastiff</td>\n      <td>None</td>\n    </tr>\n    <tr>\n      <td>13181</td>\n      <td>13182</td>\n      <td>0</td>\n      <td>None</td>\n      <td>None</td>\n      <td>None</td>\n      <td>Young</td>\n      <td>Large</td>\n      <td>Male</td>\n      <td>None</td>\n      <td>NaN</td>\n      <td>NaN</td>\n      <td>NaN</td>\n      <td>0</td>\n      <td>Pit Bull Terrier</td>\n      <td>None</td>\n    </tr>\n  </tbody>\n</table>\n<p>13182 rows × 15 columns</p>\n</div>"
     },
     "metadata": {},
     "execution_count": 3
    }
   ],
   "source": [
    "conn = lite.connect('pets.db')\n",
    "data = pd.read_sql_query('SELECT * FROM pet', conn)\n",
    "data"
   ]
  },
  {
   "cell_type": "markdown",
   "metadata": {},
   "source": [
    "*Data exploration*\n",
    "\n",
    "The first thing we looked at was the distribution of our data. The data seems to have a long tail of 1s and be heavily concentrated at the head, which would suggest a Zipf distribution.\n",
    "\n",
    "We also looked at the distribution of the columns.\n",
    "\n",
    "We noticed that some of the non-binary categorical data such as the three colors columns had significant percentages of NA values, which we tried to fix in feature engineering.\n",
    "\n",
    "\n"
   ]
  },
  {
   "cell_type": "code",
   "execution_count": 4,
   "metadata": {},
   "outputs": [
    {
     "output_type": "stream",
     "name": "stdout",
     "text": "*** id ***\n 13182    1\n4390     1\n4400     1\n4399     1\n4398     1\n        ..\n8786     1\n8785     1\n8784     1\n8783     1\n1        1\nName: id, Length: 13182, dtype: int64 \n% filled: 100.0 \n\n*** mixed_breed ***\n 1    9178\n0    4004\nName: mixed_breed, dtype: int64 \n% filled: 100.0 \n\n*** primary_color ***\n Black                               1219\nTricolor (Brown, Black, & White)     513\nBrown / Chocolate                    502\nWhite / Cream                        496\nBrindle                              316\nBicolor                              314\nApricot / Beige                      267\nYellow / Tan / Blond / Fawn          261\nRed / Chestnut / Orange              255\nGray / Blue / Silver                 204\nGolden                               122\nMerle (Blue)                          30\nMerle (Red)                           25\nSable                                 22\nHarlequin                             18\nName: primary_color, dtype: int64 \n% filled: 34.62297071764527 \n\n*** secondary_color ***\n White / Cream                       1149\nYellow / Tan / Blond / Fawn          365\nBrown / Chocolate                    132\nBlack                                 75\nRed / Chestnut / Orange               48\nGray / Blue / Silver                  42\nBrindle                               31\nGolden                                24\nTricolor (Brown, Black, & White)      14\nBicolor                               12\nHarlequin                             10\nMerle (Blue)                           9\nSable                                  5\nMerle (Red)                            2\nName: secondary_color, dtype: int64 \n% filled: 14.550144135942952 \n\n*** tertiary_color ***\n White / Cream                       113\nYellow / Tan / Blond / Fawn          73\nBrown / Chocolate                    15\nRed / Chestnut / Orange               5\nGray / Blue / Silver                  4\nGolden                                3\nMerle (Blue)                          3\nBrindle                               2\nTricolor (Brown, Black, & White)      1\nBicolor                               1\nSable                                 1\nBlack                                 1\nName: tertiary_color, dtype: int64 \n% filled: 1.6841147018661813 \n\n*** age ***\n Adult     6088\nYoung     3695\nBaby      2535\nSenior     864\nName: age, dtype: int64 \n% filled: 100.0 \n\n*** size ***\n Medium         6448\nLarge          3576\nSmall          2921\nExtra Large     237\nName: size, dtype: int64 \n% filled: 100.0 \n\n*** gender ***\n Male      7008\nFemale    6174\nName: gender, dtype: int64 \n% filled: 100.0 \n\n*** coat ***\n Short       2883\nMedium       858\nLong         207\nWire          48\nCurly         35\nHairless       1\nName: coat, dtype: int64 \n% filled: 30.58716431497497 \n\n*** good_with_children ***\n 1.0    3678\n0.0     507\nName: good_with_children, dtype: int64 \n% filled: 31.747837960855712 \n\n*** good_with_other_dogs ***\n 1.0    5267\n0.0     397\nName: good_with_other_dogs, dtype: int64 \n% filled: 42.96768320436959 \n\n*** good_with_cats ***\n 1.0    1741\n0.0     792\nName: good_with_cats, dtype: int64 \n% filled: 19.215597026247913 \n\n*** unknown_breed ***\n 0    13182\nName: unknown_breed, dtype: int64 \n% filled: 100.0 \n\n*** primary_breed ***\n Pit Bull Terrier                      1604\nLabrador Retriever                    1482\nChihuahua                              934\nMixed Breed                            911\nTerrier                                594\n                                      ... \nBoykin Spaniel                           1\nFinnish Spitz                            1\nWelsh Terrier                            1\nNova Scotia Duck Tolling Retriever       1\nThai Ridgeback                           1\nName: primary_breed, Length: 197, dtype: int64 \n% filled: 100.0 \n\n*** secondary_breed ***\n Mixed Breed                          1457\nLabrador Retriever                    378\nPit Bull Terrier                      303\nTerrier                               292\nShepherd                              191\n                                     ... \nClumber Spaniel                         1\nSetter                                  1\nPatterdale Terrier / Fell Terrier       1\nMiniature Poodle                        1\nBrussels Griffon                        1\nName: secondary_breed, Length: 143, dtype: int64 \n% filled: 36.60294340767714 \n\n"
    },
    {
     "output_type": "execute_result",
     "data": {
      "text/plain": "id                      None\nmixed_breed             None\nprimary_color           None\nsecondary_color         None\ntertiary_color          None\nage                     None\nsize                    None\ngender                  None\ncoat                    None\ngood_with_children      None\ngood_with_other_dogs    None\ngood_with_cats          None\nunknown_breed           None\nprimary_breed           None\nsecondary_breed         None\ndtype: object"
     },
     "metadata": {},
     "execution_count": 4
    }
   ],
   "source": [
    "print_counts = lambda counts: print('***', counts.name, '***\\n', \\\n",
    "                                    counts, '\\n' \\\n",
    "                                   '% filled:', counts.sum() / data.shape[0] * 100, '\\n')\n",
    "\n",
    "data.apply(lambda col: print_counts(col.value_counts()))"
   ]
  },
  {
   "cell_type": "markdown",
   "metadata": {},
   "source": [
    "Data cleaning:\n",
    "\n",
    "We clean the data by setting all NA values to the mode for that column, except for secondary and tertiary color, which we explain below. We also drop the 'id' column and any of the columns which related to the breed other than `primary_breed` to prevent the classifier from cheating. We chose mode because all of our data is categorical, and there's too many NA values to make dropping rows viable, and we only have a few columns so we wanted to preserve as many as we could. "
   ]
  },
  {
   "cell_type": "code",
   "execution_count": 5,
   "metadata": {},
   "outputs": [
    {
     "output_type": "execute_result",
     "data": {
      "text/plain": "                     primary_color    age    size  gender    coat  \\\n0      Yellow / Tan / Blond / Fawn  Young   Small  Female  Medium   \n1                            Black   Baby   Small    Male   Short   \n2      Yellow / Tan / Blond / Fawn  Adult  Medium  Female   Short   \n3                            Black   Baby   Small  Female   Short   \n4      Yellow / Tan / Blond / Fawn  Adult  Medium  Female   Short   \n...                            ...    ...     ...     ...     ...   \n13177                        Black  Young   Large  Female   Short   \n13178                        Black  Adult   Large    Male   Short   \n13179                        Black  Adult   Large    Male   Short   \n13180                        Black  Adult  Medium    Male   Short   \n13181                        Black  Young   Large    Male   Short   \n\n       good_with_children  good_with_other_dogs  good_with_cats  \\\n0                     1.0                   1.0             1.0   \n1                     1.0                   1.0             1.0   \n2                     1.0                   1.0             1.0   \n3                     1.0                   1.0             1.0   \n4                     1.0                   1.0             1.0   \n...                   ...                   ...             ...   \n13177                 1.0                   1.0             1.0   \n13178                 1.0                   1.0             1.0   \n13179                 1.0                   1.0             1.0   \n13180                 1.0                   1.0             1.0   \n13181                 1.0                   1.0             1.0   \n\n             primary_breed secondary_color tertiary_color  \n0                  Terrier            None           None  \n1                Chihuahua            None           None  \n2         Golden Retriever            None           None  \n3                Chihuahua            None           None  \n4                Retriever            None           None  \n...                    ...             ...            ...  \n13177                Boxer            None           None  \n13178  German Shepherd Dog            None           None  \n13179                Boxer            None           None  \n13180          Bullmastiff            None           None  \n13181     Pit Bull Terrier            None           None  \n\n[13182 rows x 11 columns]",
      "text/html": "<div>\n<style scoped>\n    .dataframe tbody tr th:only-of-type {\n        vertical-align: middle;\n    }\n\n    .dataframe tbody tr th {\n        vertical-align: top;\n    }\n\n    .dataframe thead th {\n        text-align: right;\n    }\n</style>\n<table border=\"1\" class=\"dataframe\">\n  <thead>\n    <tr style=\"text-align: right;\">\n      <th></th>\n      <th>primary_color</th>\n      <th>age</th>\n      <th>size</th>\n      <th>gender</th>\n      <th>coat</th>\n      <th>good_with_children</th>\n      <th>good_with_other_dogs</th>\n      <th>good_with_cats</th>\n      <th>primary_breed</th>\n      <th>secondary_color</th>\n      <th>tertiary_color</th>\n    </tr>\n  </thead>\n  <tbody>\n    <tr>\n      <td>0</td>\n      <td>Yellow / Tan / Blond / Fawn</td>\n      <td>Young</td>\n      <td>Small</td>\n      <td>Female</td>\n      <td>Medium</td>\n      <td>1.0</td>\n      <td>1.0</td>\n      <td>1.0</td>\n      <td>Terrier</td>\n      <td>None</td>\n      <td>None</td>\n    </tr>\n    <tr>\n      <td>1</td>\n      <td>Black</td>\n      <td>Baby</td>\n      <td>Small</td>\n      <td>Male</td>\n      <td>Short</td>\n      <td>1.0</td>\n      <td>1.0</td>\n      <td>1.0</td>\n      <td>Chihuahua</td>\n      <td>None</td>\n      <td>None</td>\n    </tr>\n    <tr>\n      <td>2</td>\n      <td>Yellow / Tan / Blond / Fawn</td>\n      <td>Adult</td>\n      <td>Medium</td>\n      <td>Female</td>\n      <td>Short</td>\n      <td>1.0</td>\n      <td>1.0</td>\n      <td>1.0</td>\n      <td>Golden Retriever</td>\n      <td>None</td>\n      <td>None</td>\n    </tr>\n    <tr>\n      <td>3</td>\n      <td>Black</td>\n      <td>Baby</td>\n      <td>Small</td>\n      <td>Female</td>\n      <td>Short</td>\n      <td>1.0</td>\n      <td>1.0</td>\n      <td>1.0</td>\n      <td>Chihuahua</td>\n      <td>None</td>\n      <td>None</td>\n    </tr>\n    <tr>\n      <td>4</td>\n      <td>Yellow / Tan / Blond / Fawn</td>\n      <td>Adult</td>\n      <td>Medium</td>\n      <td>Female</td>\n      <td>Short</td>\n      <td>1.0</td>\n      <td>1.0</td>\n      <td>1.0</td>\n      <td>Retriever</td>\n      <td>None</td>\n      <td>None</td>\n    </tr>\n    <tr>\n      <td>...</td>\n      <td>...</td>\n      <td>...</td>\n      <td>...</td>\n      <td>...</td>\n      <td>...</td>\n      <td>...</td>\n      <td>...</td>\n      <td>...</td>\n      <td>...</td>\n      <td>...</td>\n      <td>...</td>\n    </tr>\n    <tr>\n      <td>13177</td>\n      <td>Black</td>\n      <td>Young</td>\n      <td>Large</td>\n      <td>Female</td>\n      <td>Short</td>\n      <td>1.0</td>\n      <td>1.0</td>\n      <td>1.0</td>\n      <td>Boxer</td>\n      <td>None</td>\n      <td>None</td>\n    </tr>\n    <tr>\n      <td>13178</td>\n      <td>Black</td>\n      <td>Adult</td>\n      <td>Large</td>\n      <td>Male</td>\n      <td>Short</td>\n      <td>1.0</td>\n      <td>1.0</td>\n      <td>1.0</td>\n      <td>German Shepherd Dog</td>\n      <td>None</td>\n      <td>None</td>\n    </tr>\n    <tr>\n      <td>13179</td>\n      <td>Black</td>\n      <td>Adult</td>\n      <td>Large</td>\n      <td>Male</td>\n      <td>Short</td>\n      <td>1.0</td>\n      <td>1.0</td>\n      <td>1.0</td>\n      <td>Boxer</td>\n      <td>None</td>\n      <td>None</td>\n    </tr>\n    <tr>\n      <td>13180</td>\n      <td>Black</td>\n      <td>Adult</td>\n      <td>Medium</td>\n      <td>Male</td>\n      <td>Short</td>\n      <td>1.0</td>\n      <td>1.0</td>\n      <td>1.0</td>\n      <td>Bullmastiff</td>\n      <td>None</td>\n      <td>None</td>\n    </tr>\n    <tr>\n      <td>13181</td>\n      <td>Black</td>\n      <td>Young</td>\n      <td>Large</td>\n      <td>Male</td>\n      <td>Short</td>\n      <td>1.0</td>\n      <td>1.0</td>\n      <td>1.0</td>\n      <td>Pit Bull Terrier</td>\n      <td>None</td>\n      <td>None</td>\n    </tr>\n  </tbody>\n</table>\n<p>13182 rows × 11 columns</p>\n</div>"
     },
     "metadata": {},
     "execution_count": 5
    }
   ],
   "source": [
    "fill_mode = lambda col: col.fillna(col.mode()[0])\n",
    "\n",
    "data_cleaned = data.drop(['id', 'secondary_color', 'tertiary_color', 'secondary_breed', 'unknown_breed', 'mixed_breed'], axis=1) \\\n",
    ".apply(fill_mode, axis=0) \\\n",
    ".join(data[['secondary_color', 'tertiary_color']])\n",
    "\n",
    "data_cleaned"
   ]
  },
  {
   "cell_type": "markdown",
   "metadata": {},
   "source": [
    "Feature Engineering:\n",
    "\n",
    "We did our feature engineering on the colors columns. Of these, only `primary_color` had enough data to be useful, but we still wanted to make use of the extra columns. If we filled the secondary and tertiary colors with mode, we still had garbage data because around 90% of the rows would have the same value. Instead, we decided to try and count the number of colors and place that in a new column, `color_count`. While doing this, we noticed that the data in the color fields lists multiple values, but since the data is a string, it's all treated as one value. We fixed this by splitting the string into lists of the different colors listed, and removing `None` values. This let us get a more accurate `color_count` and will help us with encoding the data later. Finally, we combined the three color columns into `colors`, which lists the union of the lists in `primary_color`, `secondary_color`, and `tertiary_color`. We did this because of how sparse `secondary_color` and `tertiary_color` were, such that they weren't useful on their own. Combining the three allowed us get rid of the sparse features without throwing away their data.\n",
    "\n",
    "We also tried adding more columns such as `breed_counts` and `breed_group`, which we found massively increased our accuracy. We then realized that by relating these columns to the labels, we were indirectly giving the answers to the classifier. Also, in a real world usage of the classifier we wouldn't be able to determine these properties for animals with an unknown breed, so they were useless anyway."
   ]
  },
  {
   "cell_type": "code",
   "execution_count": 6,
   "metadata": {},
   "outputs": [
    {
     "output_type": "execute_result",
     "data": {
      "text/plain": "                     primary_color secondary_color tertiary_color  \\\n0      Yellow / Tan / Blond / Fawn            None           None   \n1                            Black            None           None   \n2      Yellow / Tan / Blond / Fawn            None           None   \n3                            Black            None           None   \n4      Yellow / Tan / Blond / Fawn            None           None   \n...                            ...             ...            ...   \n13177                        Black            None           None   \n13178                        Black            None           None   \n13179                        Black            None           None   \n13180                        Black            None           None   \n13181                        Black            None           None   \n\n                           colors  color_count  \n0      [Blond, Fawn, Tan, Yellow]            4  \n1                         [Black]            1  \n2      [Blond, Fawn, Tan, Yellow]            4  \n3                         [Black]            1  \n4      [Blond, Fawn, Tan, Yellow]            4  \n...                           ...          ...  \n13177                     [Black]            1  \n13178                     [Black]            1  \n13179                     [Black]            1  \n13180                     [Black]            1  \n13181                     [Black]            1  \n\n[13182 rows x 5 columns]",
      "text/html": "<div>\n<style scoped>\n    .dataframe tbody tr th:only-of-type {\n        vertical-align: middle;\n    }\n\n    .dataframe tbody tr th {\n        vertical-align: top;\n    }\n\n    .dataframe thead th {\n        text-align: right;\n    }\n</style>\n<table border=\"1\" class=\"dataframe\">\n  <thead>\n    <tr style=\"text-align: right;\">\n      <th></th>\n      <th>primary_color</th>\n      <th>secondary_color</th>\n      <th>tertiary_color</th>\n      <th>colors</th>\n      <th>color_count</th>\n    </tr>\n  </thead>\n  <tbody>\n    <tr>\n      <td>0</td>\n      <td>Yellow / Tan / Blond / Fawn</td>\n      <td>None</td>\n      <td>None</td>\n      <td>[Blond, Fawn, Tan, Yellow]</td>\n      <td>4</td>\n    </tr>\n    <tr>\n      <td>1</td>\n      <td>Black</td>\n      <td>None</td>\n      <td>None</td>\n      <td>[Black]</td>\n      <td>1</td>\n    </tr>\n    <tr>\n      <td>2</td>\n      <td>Yellow / Tan / Blond / Fawn</td>\n      <td>None</td>\n      <td>None</td>\n      <td>[Blond, Fawn, Tan, Yellow]</td>\n      <td>4</td>\n    </tr>\n    <tr>\n      <td>3</td>\n      <td>Black</td>\n      <td>None</td>\n      <td>None</td>\n      <td>[Black]</td>\n      <td>1</td>\n    </tr>\n    <tr>\n      <td>4</td>\n      <td>Yellow / Tan / Blond / Fawn</td>\n      <td>None</td>\n      <td>None</td>\n      <td>[Blond, Fawn, Tan, Yellow]</td>\n      <td>4</td>\n    </tr>\n    <tr>\n      <td>...</td>\n      <td>...</td>\n      <td>...</td>\n      <td>...</td>\n      <td>...</td>\n      <td>...</td>\n    </tr>\n    <tr>\n      <td>13177</td>\n      <td>Black</td>\n      <td>None</td>\n      <td>None</td>\n      <td>[Black]</td>\n      <td>1</td>\n    </tr>\n    <tr>\n      <td>13178</td>\n      <td>Black</td>\n      <td>None</td>\n      <td>None</td>\n      <td>[Black]</td>\n      <td>1</td>\n    </tr>\n    <tr>\n      <td>13179</td>\n      <td>Black</td>\n      <td>None</td>\n      <td>None</td>\n      <td>[Black]</td>\n      <td>1</td>\n    </tr>\n    <tr>\n      <td>13180</td>\n      <td>Black</td>\n      <td>None</td>\n      <td>None</td>\n      <td>[Black]</td>\n      <td>1</td>\n    </tr>\n    <tr>\n      <td>13181</td>\n      <td>Black</td>\n      <td>None</td>\n      <td>None</td>\n      <td>[Black]</td>\n      <td>1</td>\n    </tr>\n  </tbody>\n</table>\n<p>13182 rows × 5 columns</p>\n</div>"
     },
     "metadata": {},
     "execution_count": 6
    }
   ],
   "source": [
    "data = data_cleaned\n",
    "\n",
    "split_colors = lambda index: data[index].astype(str).apply(lambda s: s.split(' / ')).apply(lambda o: [i for i in o if not str(i) == 'None']) \n",
    "\n",
    "data_engineered = data\n",
    "\n",
    "data_engineered['colors'] = (split_colors('primary_color') \\\n",
    "                  + split_colors('secondary_color') \\\n",
    "                  + split_colors('tertiary_color') \\\n",
    "                 ).apply(lambda o: np.unique(o))\n",
    "\n",
    "data_engineered['color_count'] = data_engineered['colors'].apply(lambda o: len(o))\n",
    "\n",
    "data = data_engineered.drop(['primary_color', 'secondary_color', 'tertiary_color'], axis=1)\n",
    "\"\"\"\n",
    "\"Cheating\" code for breed groups.\n",
    "data['breed_counts'] = data['primary_breed'].apply(lambda x: 1 if x else 0) + data['secondary_breed'].apply(lambda x: 1 if x else 0)\n",
    "data['Mixed'] = data['primary_breed'].apply(lambda x: 1 if x=='Labrador Retriever' or x=='Husky' else 0)\n",
    "data['Terrier'] = data['primary_breed'].apply(lambda x: 1 if x=='Pit Bull Terrier' or x=='Terrier' or x=='American Staffordshire Terrier' or x=='Staffordshire Bull Terrier' or x=='Jack Russell Terrier' or x=='Cairn Terrier' or x=='Border Terrier' else 0)\n",
    "data['Toy'] = data['primary_breed'].apply(lambda x: 1 if x=='Chihuahua' or x=='Shih Tzu' or x =='Miniature Pinscher' or x=='Parson Russell Terrier' or x=='Rat Terrier' or x=='Maltese' or x=='Pug' or x=='Yorkshire Terrier' else 0)\n",
    "data['Herding'] = data['primary_breed'].apply(lambda x: 1 if x=='German Shepherd Dog' or x=='Shepherd' or x=='Border Collie' or x=='Australian Cattle Dog / Blue Heeler' or x=='Catahoula Leopard Dog' or x=='Australian Shepherd' or x=='Cattle Dog' or x=='Corgi' or x=='Collie' or x=='Belgian Shepherd / Malinois' else 0)\n",
    "data['Working'] = data['primary_breed'].apply(lambda x: 1 if x=='Boxer' or x=='Siberian Husky' or x=='American Bulldog' or x=='Great Pyrenees' or x=='Doberman Pinscher' or x=='Schnauzer' or x=='Rottweiler' or x=='Mastiff' or x=='Akita' or x=='Alaskan Malamute' or x=='Newfoundland Dog' else 0)\n",
    "data['Hound'] = data['primary_breed'].apply(lambda x: 1 if x=='Beagle' or x=='Hound' or x=='Dachshund' or x=='Basset Hound' or x=='Plott Hound' or x=='Treeing Walker Coonhound' or x=='Coonhound' or x=='Basenji' else 0)\n",
    "data['Non-sporting'] = data['primary_breed'].apply(lambda x: 1 if x=='Poodle' or x=='American Eskimo Dog' or x=='Boston Terrier' else 0)\n",
    "data['Sporting'] = data['primary_breed'].apply(lambda x: 1 if x=='Golden Retriever' or x=='Pointer' or x=='Retriever' or x=='Black Labrador Retriever' or x=='Cocker Spaniel' else 0)\n",
    "data['Hound'] = data['primary_breed'].apply(lambda x: 1 if x=='Greyhound' else 0)\n",
    "\"\"\"\n",
    "\n",
    "data_engineered[['primary_color', 'secondary_color', 'tertiary_color', 'colors', 'color_count']]"
   ]
  },
  {
   "cell_type": "markdown",
   "metadata": {},
   "source": [
    "Now we do some more cleaning to fix our unbalanced sample (Zipfian distribution of classes). We used random oversampling to fix this because fancier methods are more geared towards continuous data. "
   ]
  },
  {
   "cell_type": "code",
   "execution_count": 21,
   "metadata": {},
   "outputs": [
    {
     "output_type": "execute_result",
     "data": {
      "text/plain": "      good_with_children  good_with_other_dogs  good_with_cats  color_count  \\\n0                    1.0                   1.0             1.0            6   \n1                    1.0                   1.0             1.0            2   \n2                    1.0                   1.0             1.0            2   \n3                    1.0                   1.0             1.0            1   \n4                    1.0                   1.0             1.0            1   \n...                  ...                   ...             ...          ...   \n3085                 1.0                   1.0             1.0            1   \n3086                 1.0                   1.0             1.0            1   \n3087                 1.0                   1.0             1.0            1   \n3088                 1.0                   1.0             1.0            1   \n3089                 1.0                   1.0             1.0            1   \n\n      Apricot  Beige  Bicolor  Black  Blond  Blue  ...  Sable  Silver  Tan  \\\n0           0      0        0      0      1     0  ...      0       0    1   \n1           1      1        0      0      0     0  ...      0       0    0   \n2           1      1        0      0      0     0  ...      0       0    0   \n3           0      0        0      1      0     0  ...      0       0    0   \n4           0      0        0      1      0     0  ...      0       0    0   \n...       ...    ...      ...    ...    ...   ...  ...    ...     ...  ...   \n3085        0      0        0      1      0     0  ...      0       0    0   \n3086        0      0        0      1      0     0  ...      0       0    0   \n3087        0      0        0      1      0     0  ...      0       0    0   \n3088        0      0        0      1      0     0  ...      0       0    0   \n3089        0      0        0      1      0     0  ...      0       0    0   \n\n      Tricolor (Brown, Black, & White)  White  Yellow  age  size  gender  coat  \n0                                    0      1       1    3     2       1     3  \n1                                    0      0       0    0     3       1     3  \n2                                    0      0       0    0     3       0     3  \n3                                    0      0       0    0     0       1     3  \n4                                    0      0       0    2     2       0     3  \n...                                ...    ...     ...  ...   ...     ...   ...  \n3085                                 0      0       0    2     3       0     3  \n3086                                 0      0       0    3     3       0     3  \n3087                                 0      0       0    3     3       0     3  \n3088                                 0      0       0    2     3       0     3  \n3089                                 0      0       0    2     3       0     3  \n\n[3090 rows x 33 columns]",
      "text/html": "<div>\n<style scoped>\n    .dataframe tbody tr th:only-of-type {\n        vertical-align: middle;\n    }\n\n    .dataframe tbody tr th {\n        vertical-align: top;\n    }\n\n    .dataframe thead th {\n        text-align: right;\n    }\n</style>\n<table border=\"1\" class=\"dataframe\">\n  <thead>\n    <tr style=\"text-align: right;\">\n      <th></th>\n      <th>good_with_children</th>\n      <th>good_with_other_dogs</th>\n      <th>good_with_cats</th>\n      <th>color_count</th>\n      <th>Apricot</th>\n      <th>Beige</th>\n      <th>Bicolor</th>\n      <th>Black</th>\n      <th>Blond</th>\n      <th>Blue</th>\n      <th>...</th>\n      <th>Sable</th>\n      <th>Silver</th>\n      <th>Tan</th>\n      <th>Tricolor (Brown, Black, &amp; White)</th>\n      <th>White</th>\n      <th>Yellow</th>\n      <th>age</th>\n      <th>size</th>\n      <th>gender</th>\n      <th>coat</th>\n    </tr>\n  </thead>\n  <tbody>\n    <tr>\n      <td>0</td>\n      <td>1.0</td>\n      <td>1.0</td>\n      <td>1.0</td>\n      <td>6</td>\n      <td>0</td>\n      <td>0</td>\n      <td>0</td>\n      <td>0</td>\n      <td>1</td>\n      <td>0</td>\n      <td>...</td>\n      <td>0</td>\n      <td>0</td>\n      <td>1</td>\n      <td>0</td>\n      <td>1</td>\n      <td>1</td>\n      <td>3</td>\n      <td>2</td>\n      <td>1</td>\n      <td>3</td>\n    </tr>\n    <tr>\n      <td>1</td>\n      <td>1.0</td>\n      <td>1.0</td>\n      <td>1.0</td>\n      <td>2</td>\n      <td>1</td>\n      <td>1</td>\n      <td>0</td>\n      <td>0</td>\n      <td>0</td>\n      <td>0</td>\n      <td>...</td>\n      <td>0</td>\n      <td>0</td>\n      <td>0</td>\n      <td>0</td>\n      <td>0</td>\n      <td>0</td>\n      <td>0</td>\n      <td>3</td>\n      <td>1</td>\n      <td>3</td>\n    </tr>\n    <tr>\n      <td>2</td>\n      <td>1.0</td>\n      <td>1.0</td>\n      <td>1.0</td>\n      <td>2</td>\n      <td>1</td>\n      <td>1</td>\n      <td>0</td>\n      <td>0</td>\n      <td>0</td>\n      <td>0</td>\n      <td>...</td>\n      <td>0</td>\n      <td>0</td>\n      <td>0</td>\n      <td>0</td>\n      <td>0</td>\n      <td>0</td>\n      <td>0</td>\n      <td>3</td>\n      <td>0</td>\n      <td>3</td>\n    </tr>\n    <tr>\n      <td>3</td>\n      <td>1.0</td>\n      <td>1.0</td>\n      <td>1.0</td>\n      <td>1</td>\n      <td>0</td>\n      <td>0</td>\n      <td>0</td>\n      <td>1</td>\n      <td>0</td>\n      <td>0</td>\n      <td>...</td>\n      <td>0</td>\n      <td>0</td>\n      <td>0</td>\n      <td>0</td>\n      <td>0</td>\n      <td>0</td>\n      <td>0</td>\n      <td>0</td>\n      <td>1</td>\n      <td>3</td>\n    </tr>\n    <tr>\n      <td>4</td>\n      <td>1.0</td>\n      <td>1.0</td>\n      <td>1.0</td>\n      <td>1</td>\n      <td>0</td>\n      <td>0</td>\n      <td>0</td>\n      <td>1</td>\n      <td>0</td>\n      <td>0</td>\n      <td>...</td>\n      <td>0</td>\n      <td>0</td>\n      <td>0</td>\n      <td>0</td>\n      <td>0</td>\n      <td>0</td>\n      <td>2</td>\n      <td>2</td>\n      <td>0</td>\n      <td>3</td>\n    </tr>\n    <tr>\n      <td>...</td>\n      <td>...</td>\n      <td>...</td>\n      <td>...</td>\n      <td>...</td>\n      <td>...</td>\n      <td>...</td>\n      <td>...</td>\n      <td>...</td>\n      <td>...</td>\n      <td>...</td>\n      <td>...</td>\n      <td>...</td>\n      <td>...</td>\n      <td>...</td>\n      <td>...</td>\n      <td>...</td>\n      <td>...</td>\n      <td>...</td>\n      <td>...</td>\n      <td>...</td>\n      <td>...</td>\n    </tr>\n    <tr>\n      <td>3085</td>\n      <td>1.0</td>\n      <td>1.0</td>\n      <td>1.0</td>\n      <td>1</td>\n      <td>0</td>\n      <td>0</td>\n      <td>0</td>\n      <td>1</td>\n      <td>0</td>\n      <td>0</td>\n      <td>...</td>\n      <td>0</td>\n      <td>0</td>\n      <td>0</td>\n      <td>0</td>\n      <td>0</td>\n      <td>0</td>\n      <td>2</td>\n      <td>3</td>\n      <td>0</td>\n      <td>3</td>\n    </tr>\n    <tr>\n      <td>3086</td>\n      <td>1.0</td>\n      <td>1.0</td>\n      <td>1.0</td>\n      <td>1</td>\n      <td>0</td>\n      <td>0</td>\n      <td>0</td>\n      <td>1</td>\n      <td>0</td>\n      <td>0</td>\n      <td>...</td>\n      <td>0</td>\n      <td>0</td>\n      <td>0</td>\n      <td>0</td>\n      <td>0</td>\n      <td>0</td>\n      <td>3</td>\n      <td>3</td>\n      <td>0</td>\n      <td>3</td>\n    </tr>\n    <tr>\n      <td>3087</td>\n      <td>1.0</td>\n      <td>1.0</td>\n      <td>1.0</td>\n      <td>1</td>\n      <td>0</td>\n      <td>0</td>\n      <td>0</td>\n      <td>1</td>\n      <td>0</td>\n      <td>0</td>\n      <td>...</td>\n      <td>0</td>\n      <td>0</td>\n      <td>0</td>\n      <td>0</td>\n      <td>0</td>\n      <td>0</td>\n      <td>3</td>\n      <td>3</td>\n      <td>0</td>\n      <td>3</td>\n    </tr>\n    <tr>\n      <td>3088</td>\n      <td>1.0</td>\n      <td>1.0</td>\n      <td>1.0</td>\n      <td>1</td>\n      <td>0</td>\n      <td>0</td>\n      <td>0</td>\n      <td>1</td>\n      <td>0</td>\n      <td>0</td>\n      <td>...</td>\n      <td>0</td>\n      <td>0</td>\n      <td>0</td>\n      <td>0</td>\n      <td>0</td>\n      <td>0</td>\n      <td>2</td>\n      <td>3</td>\n      <td>0</td>\n      <td>3</td>\n    </tr>\n    <tr>\n      <td>3089</td>\n      <td>1.0</td>\n      <td>1.0</td>\n      <td>1.0</td>\n      <td>1</td>\n      <td>0</td>\n      <td>0</td>\n      <td>0</td>\n      <td>1</td>\n      <td>0</td>\n      <td>0</td>\n      <td>...</td>\n      <td>0</td>\n      <td>0</td>\n      <td>0</td>\n      <td>0</td>\n      <td>0</td>\n      <td>0</td>\n      <td>2</td>\n      <td>3</td>\n      <td>0</td>\n      <td>3</td>\n    </tr>\n  </tbody>\n</table>\n<p>3090 rows × 33 columns</p>\n</div>"
     },
     "metadata": {},
     "execution_count": 21
    }
   ],
   "source": [
    "from sklearn.utils import shuffle\n",
    "\n",
    "data_shuf = shuffle(data).head(1000)\n",
    "Y = data_shuf['primary_breed']\n",
    "X = data_shuf.drop(['primary_breed'], axis=1)\n",
    "\n",
    "# ros \n",
    "counts = Y.value_counts()\n",
    "sample_threshold = counts[0] // 5\n",
    "minorities = counts[counts.values < sample_threshold]\n",
    "\n",
    "ros = RandomOverSampler(sampling_strategy={ key: sample_threshold for key in minorities.index })\n",
    "X_ros, Y_ros = ros.fit_sample(X, Y)\n",
    "\n",
    "# encoding\n",
    "gle = LabelEncoder()\n",
    "encode_field = lambda df, field: df.drop(field, axis=1).join(pd.DataFrame(gle.fit_transform(df[field]), columns=[field]))\n",
    "\n",
    "X_encoded = X_ros.drop('colors', axis=1).join(X_ros['colors'].str.join('|').str.get_dummies())\n",
    "X_encoded = encode_field(X_encoded, 'age')\n",
    "X_encoded = encode_field(X_encoded, 'size')\n",
    "X_encoded = encode_field(X_encoded, 'gender')\n",
    "X_encoded = encode_field(X_encoded, 'coat')\n",
    "\n",
    "X_encoded\n",
    "# enc = OneHotEncoder(handle_unknown='ignore')\n",
    "# enc.fit(X_ros)\n",
    "# X_hot = enc.transform(X_ros).toarray()\n",
    "\n",
    "# Y_enc = gle.fit_transform(Y_ros)\n",
    "\n",
    "# Y_enc\n",
    "\n",
    "# X_train, X_test, Y_train, Y_test = train_test_split(X_encoded, Y_ros, test_size=0.2)"
   ]
  },
  {
   "cell_type": "markdown",
   "metadata": {},
   "source": []
  },
  {
   "cell_type": "code",
   "execution_count": 26,
   "metadata": {},
   "outputs": [
    {
     "output_type": "error",
     "ename": "SyntaxError",
     "evalue": "EOL while scanning string literal (<ipython-input-26-b88680bd7140>, line 19)",
     "traceback": [
      "\u001b[1;36m  File \u001b[1;32m\"<ipython-input-26-b88680bd7140>\"\u001b[1;36m, line \u001b[1;32m19\u001b[0m\n\u001b[1;33m    ''''\u001b[0m\n\u001b[1;37m        \n^\u001b[0m\n\u001b[1;31mSyntaxError\u001b[0m\u001b[1;31m:\u001b[0m EOL while scanning string literal\n"
     ]
    }
   ],
   "source": [
    "from sklearn.multiclass import OneVsRestClassifier\n",
    "\n",
    "params = {'clf__max_depth': [25, 30, 35, 40],\n",
    "          'clf__max_features': range(1, 28, 8),\n",
    "          'clf__min_samples_leaf': [1, 2, 3, 4]}\n",
    "\n",
    "tree = DecisionTreeClassifier()\n",
    "grid_search = GridSearchCV(tree, params, cv=5, scoring='accuracy')\n",
    "# pipe = Pipeline([('smpl', RandomOverSampler(sampling_strategy=0.2)), ])\n",
    "ovr = OneVsRestClassifier(grid_search)\n",
    "\n",
    "accuracy = cross_val_score(ovr, X_encoded, Y_ros, cv=10)\n",
    "print(\"Tree accuracy:\", accuracy.mean() * 100.0)\n",
    "\n",
    "nb = NaGaussianNB\n",
    "ovr = OneVsRestClassifier(nb, n_jobs=4)\n",
    "# accuracy = cross_val_score(ovr, X_encoded, Y_ros, cv=10)\n",
    "# print(\"NB accuracy:\", accuracy.mean() * 100.0)\n",
    "'''"
   ]
  },
  {
   "cell_type": "code",
   "execution_count": 10,
   "metadata": {},
   "outputs": [
    {
     "name": "stdout",
     "output_type": "stream",
     "text": [
      "precision    recall  f1-score   support\n",
      "\n",
      "           0       0.99      1.00      0.99       151\n",
      "           1       1.00      0.72      0.83       151\n",
      "           2       0.72      0.42      0.53       151\n",
      "           3       0.99      1.00      0.99       151\n",
      "           4       1.00      0.29      0.45       151\n",
      "           5       1.00      1.00      1.00       151\n",
      "           6       0.91      0.60      0.73       151\n",
      "           7       0.76      0.66      0.70       151\n",
      "           8       0.99      1.00      1.00       151\n",
      "           9       0.98      0.53      0.69       151\n",
      "          10       0.99      1.00      1.00       151\n",
      "          11       1.00      0.36      0.53       151\n",
      "          12       0.87      0.74      0.80       151\n",
      "          13       0.86      0.67      0.75       151\n",
      "          14       0.97      0.75      0.85       151\n",
      "          15       0.99      1.00      1.00       151\n",
      "          16       0.87      1.00      0.93       151\n",
      "          17       0.82      0.89      0.85       151\n",
      "          18       0.78      0.54      0.64       151\n",
      "          19       1.00      1.00      1.00       151\n",
      "          20       0.42      0.79      0.55       151\n",
      "          21       0.95      0.76      0.85       151\n",
      "          22       0.34      0.75      0.47       151\n",
      "          23       1.00      1.00      1.00       151\n",
      "          24       0.60      0.55      0.57       151\n",
      "          25       1.00      0.52      0.68       151\n",
      "          26       1.00      1.00      1.00       151\n",
      "          27       1.00      1.00      1.00       151\n",
      "          28       0.78      1.00      0.88       151\n",
      "          29       0.82      0.50      0.62       151\n",
      "          30       0.87      1.00      0.93       151\n",
      "          31       0.98      0.64      0.78       151\n",
      "          32       0.74      0.72      0.73       151\n",
      "          33       0.77      0.31      0.44       151\n",
      "          34       0.97      1.00      0.98       151\n",
      "          35       1.00      1.00      1.00       151\n",
      "          36       0.41      1.00      0.58       151\n",
      "          37       1.00      0.65      0.79       151\n",
      "          38       0.98      0.73      0.84       151\n",
      "          39       1.00      0.70      0.82       151\n",
      "          40       0.99      0.70      0.82       151\n",
      "          41       0.98      0.73      0.84       151\n",
      "          42       0.99      1.00      1.00       151\n",
      "          43       0.53      0.55      0.54       151\n",
      "          44       0.92      0.81      0.87       151\n",
      "          45       0.42      0.20      0.27       151\n",
      "          46       0.97      1.00      0.98       151\n",
      "          47       0.79      1.00      0.88       151\n",
      "          48       0.47      1.00      0.64       151\n",
      "          49       0.99      1.00      0.99       151\n",
      "          50       0.93      1.00      0.96       151\n",
      "          51       0.87      0.68      0.76       151\n",
      "          52       0.98      0.70      0.82       151\n",
      "          53       0.99      1.00      1.00       151\n",
      "          54       0.93      1.00      0.96       151\n",
      "          55       0.95      0.76      0.85       151\n",
      "          56       0.37      0.73      0.49       151\n",
      "          57       0.96      1.00      0.98       151\n",
      "          58       0.85      0.60      0.70       151\n",
      "          59       0.88      0.62      0.72       151\n",
      "          60       0.34      1.00      0.51       151\n",
      "          61       0.96      1.00      0.98       151\n",
      "          62       0.60      1.00      0.75       151\n",
      "          63       1.00      1.00      1.00       151\n",
      "          64       0.57      0.11      0.18       151\n",
      "          65       1.00      1.00      1.00       151\n",
      "          66       0.74      0.32      0.44       151\n",
      "          67       1.00      1.00      1.00       151\n",
      "          68       0.53      1.00      0.69       151\n",
      "          69       0.44      0.58      0.50       151\n",
      "          70       0.96      0.65      0.77       151\n",
      "          71       1.00      1.00      1.00       151\n",
      "          72       0.73      0.38      0.50       151\n",
      "          73       0.61      1.00      0.76       151\n",
      "          74       1.00      1.00      1.00       151\n",
      "          75       0.89      1.00      0.94       151\n",
      "          76       0.70      0.85      0.77       151\n",
      "          77       1.00      1.00      1.00       151\n",
      "          78       0.56      0.18      0.27       151\n",
      "          79       0.85      0.50      0.63       151\n",
      "          80       0.86      0.95      0.90       151\n",
      "          81       0.76      0.52      0.62       151\n",
      "          82       1.00      1.00      1.00       151\n",
      "          83       0.89      0.84      0.87       151\n",
      "          84       0.66      1.00      0.79       151\n",
      "          85       0.81      0.45      0.58       151\n",
      "          86       0.93      1.00      0.96       151\n",
      "          87       0.95      0.70      0.80       151\n",
      "          88       1.00      1.00      1.00       151\n",
      "          89       0.78      0.64      0.70       151\n",
      "          90       1.00      1.00      1.00       151\n",
      "          91       0.79      0.54      0.64       151\n",
      "          92       0.99      0.60      0.74       151\n",
      "          93       0.72      0.47      0.57       151\n",
      "          94       0.34      0.48      0.39       151\n",
      "          95       0.94      0.71      0.81       151\n",
      "          96       0.51      0.15      0.23       151\n",
      "          97       1.00      0.59      0.74       151\n",
      "          98       0.58      1.00      0.73       151\n",
      "          99       1.00      1.00      1.00       151\n",
      "         100       0.41      0.27      0.33       151\n",
      "         101       0.93      0.44      0.59       151\n",
      "         102       0.62      1.00      0.77       151\n",
      "         103       0.99      1.00      0.99       151\n",
      "         104       0.70      1.00      0.82       151\n",
      "         105       1.00      1.00      1.00       151\n",
      "         106       1.00      1.00      1.00       151\n",
      "         107       0.79      1.00      0.88       151\n",
      "         108       0.78      1.00      0.88       151\n",
      "         109       1.00      1.00      1.00       151\n",
      "         110       0.78      1.00      0.88       151\n",
      "         111       0.29      1.00      0.45       151\n",
      "         112       1.00      0.26      0.41       151\n",
      "\n",
      "    accuracy                           0.78     17063\n",
      "   macro avg       0.83      0.78      0.78     17063\n",
      "weighted avg       0.83      0.78      0.78     17063\n",
      "\n"
     ]
    }
   ],
   "source": [
    "from sklearn.model_selection import cross_val_predict\n",
    "from sklearn.metrics import confusion_matrix, classification_report\n",
    "\n",
    "Y_pred = cross_val_predict(grid_search, X, Y)\n",
    "cm = confusion_matrix(Y, Y_pred)\n",
    "\n",
    "cm = classification_report(Y, Y_pred)\n",
    "print(cm)"
   ]
  },
  {
   "cell_type": "code",
   "execution_count": 7,
   "metadata": {},
   "outputs": [
    {
     "ename": "ValueError",
     "evalue": "multiclass format is not supported",
     "output_type": "error",
     "traceback": [
      "\u001b[0;31m---------------------------------------------------------------------------\u001b[0m",
      "\u001b[0;31mValueError\u001b[0m                                Traceback (most recent call last)",
      "\u001b[0;32m<ipython-input-7-6422b8ce2730>\u001b[0m in \u001b[0;36m<module>\u001b[0;34m\u001b[0m\n\u001b[1;32m      2\u001b[0m \u001b[0;34m\u001b[0m\u001b[0m\n\u001b[1;32m      3\u001b[0m \u001b[0mprob_pos\u001b[0m \u001b[0;34m=\u001b[0m \u001b[0mgrid_search\u001b[0m\u001b[0;34m.\u001b[0m\u001b[0mpredict_proba\u001b[0m\u001b[0;34m(\u001b[0m\u001b[0mX_test\u001b[0m\u001b[0;34m)\u001b[0m\u001b[0;34m[\u001b[0m\u001b[0;34m:\u001b[0m\u001b[0;34m,\u001b[0m\u001b[0;36m1\u001b[0m\u001b[0;34m]\u001b[0m\u001b[0;34m\u001b[0m\u001b[0;34m\u001b[0m\u001b[0m\n\u001b[0;32m----> 4\u001b[0;31m \u001b[0mfpr\u001b[0m\u001b[0;34m,\u001b[0m \u001b[0mtpr\u001b[0m\u001b[0;34m,\u001b[0m \u001b[0m_\u001b[0m \u001b[0;34m=\u001b[0m \u001b[0mroc_curve\u001b[0m\u001b[0;34m(\u001b[0m\u001b[0mY_test\u001b[0m\u001b[0;34m,\u001b[0m \u001b[0mprob_pos\u001b[0m\u001b[0;34m)\u001b[0m\u001b[0;34m\u001b[0m\u001b[0;34m\u001b[0m\u001b[0m\n\u001b[0m\u001b[1;32m      5\u001b[0m \u001b[0;34m\u001b[0m\u001b[0m\n\u001b[1;32m      6\u001b[0m \u001b[0;31m# Do not change this code! This plots the ROC curve.\u001b[0m\u001b[0;34m\u001b[0m\u001b[0;34m\u001b[0m\u001b[0;34m\u001b[0m\u001b[0m\n",
      "\u001b[0;32m~/anaconda3/lib/python3.7/site-packages/sklearn/metrics/_ranking.py\u001b[0m in \u001b[0;36mroc_curve\u001b[0;34m(y_true, y_score, pos_label, sample_weight, drop_intermediate)\u001b[0m\n\u001b[1;32m    769\u001b[0m     \"\"\"\n\u001b[1;32m    770\u001b[0m     fps, tps, thresholds = _binary_clf_curve(\n\u001b[0;32m--> 771\u001b[0;31m         y_true, y_score, pos_label=pos_label, sample_weight=sample_weight)\n\u001b[0m\u001b[1;32m    772\u001b[0m \u001b[0;34m\u001b[0m\u001b[0m\n\u001b[1;32m    773\u001b[0m     \u001b[0;31m# Attempt to drop thresholds corresponding to points in between and\u001b[0m\u001b[0;34m\u001b[0m\u001b[0;34m\u001b[0m\u001b[0;34m\u001b[0m\u001b[0m\n",
      "\u001b[0;32m~/anaconda3/lib/python3.7/site-packages/sklearn/metrics/_ranking.py\u001b[0m in \u001b[0;36m_binary_clf_curve\u001b[0;34m(y_true, y_score, pos_label, sample_weight)\u001b[0m\n\u001b[1;32m    534\u001b[0m     if not (y_type == \"binary\" or\n\u001b[1;32m    535\u001b[0m             (y_type == \"multiclass\" and pos_label is not None)):\n\u001b[0;32m--> 536\u001b[0;31m         \u001b[0;32mraise\u001b[0m \u001b[0mValueError\u001b[0m\u001b[0;34m(\u001b[0m\u001b[0;34m\"{0} format is not supported\"\u001b[0m\u001b[0;34m.\u001b[0m\u001b[0mformat\u001b[0m\u001b[0;34m(\u001b[0m\u001b[0my_type\u001b[0m\u001b[0;34m)\u001b[0m\u001b[0;34m)\u001b[0m\u001b[0;34m\u001b[0m\u001b[0;34m\u001b[0m\u001b[0m\n\u001b[0m\u001b[1;32m    537\u001b[0m \u001b[0;34m\u001b[0m\u001b[0m\n\u001b[1;32m    538\u001b[0m     \u001b[0mcheck_consistent_length\u001b[0m\u001b[0;34m(\u001b[0m\u001b[0my_true\u001b[0m\u001b[0;34m,\u001b[0m \u001b[0my_score\u001b[0m\u001b[0;34m,\u001b[0m \u001b[0msample_weight\u001b[0m\u001b[0;34m)\u001b[0m\u001b[0;34m\u001b[0m\u001b[0;34m\u001b[0m\u001b[0m\n",
      "\u001b[0;31mValueError\u001b[0m: multiclass format is not supported"
     ]
    }
   ],
   "source": [
    "from sklearn.metrics import roc_curve, roc_auc_score\n",
    "\n",
    "prob_pos = grid_search.predict_proba(X_test)[:,1]\n",
    "fpr, tpr, _ = roc_curve(Y_test, prob_pos)\n",
    "\n",
    "# Do not change this code! This plots the ROC curve.\n",
    "# Just replace the fpr and tpr above with the values from your roc_curve\n",
    "plt.plot([0,1],[0,1],'k--') #plot the diagonal line\n",
    "plt.plot(fpr, tpr, label='NB') #plot the ROC curve\n",
    "plt.xlabel('fpr')\n",
    "plt.ylabel('tpr')\n",
    "plt.title('ROC Decision Tree')\n",
    "plt.show()\n",
    "\n",
    "auc = roc_auc_score(Y_test, prob_pos)\n",
    "print(\"AUC Score:\", auc)"
   ]
  }
 ],
 "metadata": {
  "kernelspec": {
   "display_name": "Python 3",
   "language": "python",
   "name": "python3"
  },
  "language_info": {
   "codemirror_mode": {
    "name": "ipython",
    "version": 3
   },
   "file_extension": ".py",
   "mimetype": "text/x-python",
   "name": "python",
   "nbconvert_exporter": "python",
   "pygments_lexer": "ipython3",
   "version": "3.7.4-final"
  }
 },
 "nbformat": 4,
 "nbformat_minor": 2
}